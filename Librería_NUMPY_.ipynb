{
  "nbformat": 4,
  "nbformat_minor": 0,
  "metadata": {
    "colab": {
      "name": "Librería NUMPY .ipynb",
      "provenance": [],
      "authorship_tag": "ABX9TyPZgmeihrceaMyGybkyHlew",
      "include_colab_link": true
    },
    "kernelspec": {
      "name": "python3",
      "display_name": "Python 3"
    },
    "language_info": {
      "name": "python"
    }
  },
  "cells": [
    {
      "cell_type": "markdown",
      "metadata": {
        "id": "view-in-github",
        "colab_type": "text"
      },
      "source": [
        "<a href=\"https://colab.research.google.com/github/Isai-Ramos/Librer-a-NUMPY-RamosRivera/blob/main/Librer%C3%ADa_NUMPY_.ipynb\" target=\"_parent\"><img src=\"https://colab.research.google.com/assets/colab-badge.svg\" alt=\"Open In Colab\"/></a>"
      ]
    },
    {
      "cell_type": "code",
      "metadata": {
        "colab": {
          "base_uri": "https://localhost:8080/"
        },
        "id": "aweRXMNe_fwK",
        "outputId": "a5c44d88-f4d4-48f4-91bf-fb11950c8d0a"
      },
      "source": [
        "#creacion de vectores y manipulacion\n",
        "import numpy as np\n",
        "lista=[25,12,15,66,12.5]\n",
        "vector=np.array(lista)\n",
        "print(vector)\n",
        "print(\"vector original\")\n",
        "print(vector)\n",
        "\n",
        "print(\"sumarle 1 a cada elemento del vector:\")\n",
        "print(vector+1)\n",
        "print(\"multiplicar por 5 cada elemento del vector:\")\n",
        "print(vector*5)\n",
        "\n",
        "print(\"suma de los elementos:\")\n",
        "print(np.sum(vector))\n",
        "\n",
        "print(\"promedio de los elementos:\")\n",
        "print(np.mean(vector)) # \n",
        "\n",
        "print(\"el vector sumado a si mismo:\")\n",
        "print(vector+vector)\n",
        "print(\"suma de vectores vector1 y vector2 (mismo tamaño):\")\n",
        "vector2=np.array([11,55,1.2,7.4,-8])\n",
        "print(vector+vector2)"
      ],
      "execution_count": 1,
      "outputs": [
        {
          "output_type": "stream",
          "name": "stdout",
          "text": [
            "[25.  12.  15.  66.  12.5]\n"
          ]
        }
      ]
    },
    {
      "cell_type": "code",
      "metadata": {
        "colab": {
          "base_uri": "https://localhost:8080/"
        },
        "id": "POlUTXdCEzH8",
        "outputId": "3273a39d-7b6e-4f55-8582-de64e27b8fe4"
      },
      "source": [
        "#slices\n",
        "lista=[25,12,15,66,12.5]\n",
        "vector=np.array(lista)\n",
        "print(vector)\n",
        "print(vector[3])\n",
        "print(vector[1:4])\n",
        "print(vector[1:])\n",
        "print(vector[:4])\n",
        "print(vector[:])"
      ],
      "execution_count": 3,
      "outputs": [
        {
          "output_type": "stream",
          "name": "stdout",
          "text": [
            "[25.  12.  15.  66.  12.5]\n",
            "66.0\n",
            "[12. 15. 66.]\n",
            "[12.  15.  66.  12.5]\n",
            "[25. 12. 15. 66.]\n",
            "[25.  12.  15.  66.  12.5]\n"
          ]
        }
      ]
    },
    {
      "cell_type": "code",
      "metadata": {
        "colab": {
          "base_uri": "https://localhost:8080/"
        },
        "id": "lWN-t6xtGb3q",
        "outputId": "3f8dc6ca-42de-45fd-a4c2-18174f4037a7"
      },
      "source": [
        " print(\"Vector de ceros:\")\n",
        "vector_ceros=np.zeros(5)\n",
        "print(vector_ceros)\n",
        "\n",
        "print(\"- Vector de unos:\")\n",
        "vector_unos=np.ones(5)\n",
        "print(vector_unos)\n",
        "\n",
        "\n",
        "print(\"Vector con todos los elementos con valor 2:\")\n",
        "vector_dos=np.zeros(5)+2\n",
        "print(vector_dos)\n",
        "\n",
        "print(\"Vector con todos los elementos con valor 2 (otra forma):\")\n",
        "vector_dos_otro=np.ones((5))*2\n",
        "print(vector_dos_otro)"
      ],
      "execution_count": 5,
      "outputs": [
        {
          "output_type": "stream",
          "name": "stdout",
          "text": [
            "Vector de ceros:\n",
            "[0. 0. 0. 0. 0.]\n",
            "- Vector de unos:\n",
            "[1. 1. 1. 1. 1.]\n",
            "Vector con todos los elementos con valor 2:\n",
            "[2. 2. 2. 2. 2.]\n",
            "Vector con todos los elementos con valor 2 (otra forma):\n",
            "[2. 2. 2. 2. 2.]\n"
          ]
        }
      ]
    },
    {
      "cell_type": "code",
      "metadata": {
        "colab": {
          "base_uri": "https://localhost:8080/"
        },
        "id": "iT0vnD5yIUYh",
        "outputId": "d4b9b6a7-28c3-4868-eb5a-31fcea5fca7d"
      },
      "source": [
        "print(\"Matriz creada con una lista de listas:\")\n",
        "lista_de_listas=[ [1  ,-4], \n",
        "                  [12 , 3], \n",
        "                  [7.2, 5]]\n",
        "matriz = np.array(lista_de_listas)\n",
        "print(matriz)\n",
        "\n",
        "\n",
        "print(\"Matriz creada con np.zeros:\")\n",
        "dimensiones=(2,3)\n",
        "matriz_ceros = np.zeros(dimensiones)\n",
        "print(matriz_ceros)\n",
        "\n",
        "\n",
        "print(\"Matriz creada con np.ones:\")\n",
        "dimensiones=(3,2)\n",
        "matriz_unos = np.ones(dimensiones)\n",
        "print(matriz_unos)\n",
        "\n",
        "print(\"Copia de la matriz creada con np.ones:\")\n",
        "matriz_unos_copia=np.copy(matriz_unos)\n",
        "print(matriz_unos_copia)\n",
        "#ejemplo\n",
        "print(\"Ejemplo\")\n",
        "matriz_1=np.copy(matriz)\n",
        "print(matriz_1)"
      ],
      "execution_count": 10,
      "outputs": [
        {
          "output_type": "stream",
          "name": "stdout",
          "text": [
            "Matriz creada con una lista de listas:\n",
            "[[ 1.  -4. ]\n",
            " [12.   3. ]\n",
            " [ 7.2  5. ]]\n",
            "Matriz creada con np.zeros:\n",
            "[[0. 0. 0.]\n",
            " [0. 0. 0.]]\n",
            "Matriz creada con np.ones:\n",
            "[[1. 1.]\n",
            " [1. 1.]\n",
            " [1. 1.]]\n",
            "Copia de la matriz creada con np.ones:\n",
            "[[1. 1.]\n",
            " [1. 1.]\n",
            " [1. 1.]]\n",
            "Ejemplo\n",
            "[[ 1.  -4. ]\n",
            " [12.   3. ]\n",
            " [ 7.2  5. ]]\n"
          ]
        }
      ]
    },
    {
      "cell_type": "code",
      "metadata": {
        "colab": {
          "base_uri": "https://localhost:8080/"
        },
        "id": "sJHCINNXI7Ho",
        "outputId": "29285381-93d3-4ca5-ff96-ed4df2aab1d1"
      },
      "source": [
        "lista_de_listas=[ [1  ,-4], \n",
        "                  [12 , 3], \n",
        "                  [7.2, 5]]\n",
        "a = np.array(lista_de_listas)\n",
        "\n",
        "print(\"Elementos individuales\")\n",
        "print(a[0,1])\n",
        "print(a[2,1])\n",
        "\n",
        "print(\"Vector de elementos de la fila 1\")\n",
        "print(a[1,:])\n",
        "\n",
        "print(\"Vector de elementos de la columna 0\")\n",
        "print(a[:,0])\n",
        "\n",
        "print(\"Submatriz de 2x2 con las primeras dos filas\")\n",
        "print(a[0:2,:])\n",
        "\n",
        "print(\"Submatriz de 2x2 con las ultimas dos filas\")\n",
        "print(a[1:3,:])"
      ],
      "execution_count": 11,
      "outputs": [
        {
          "output_type": "stream",
          "name": "stdout",
          "text": [
            "Elementos individuales\n",
            "-4.0\n",
            "5.0\n",
            "Vector de elementos de la fila 1\n",
            "[12.  3.]\n",
            "Vector de elementos de la columna 0\n",
            "[ 1.  12.   7.2]\n",
            "Submatriz de 2x2 con las primeras dos filas\n",
            "[[ 1. -4.]\n",
            " [12.  3.]]\n",
            "Submatriz de 2x2 con las ultimas dos filas\n",
            "[[12.   3. ]\n",
            " [ 7.2  5. ]]\n"
          ]
        }
      ]
    },
    {
      "cell_type": "code",
      "metadata": {
        "colab": {
          "base_uri": "https://localhost:8080/"
        },
        "id": "9DvkgEC2KY2Y",
        "outputId": "95de5f73-1703-4be3-dd00-dd6dfcd030a0"
      },
      "source": [
        "lista_de_listas=[ [1,-4], \n",
        "                  [12,3], \n",
        "                  [7, 5.0]]\n",
        "a = np.array(lista_de_listas)\n",
        "\n",
        "print(\"- Matriz original:\")\n",
        "print(a)\n",
        "\n",
        "print(\"- Le asignamos el valor 4 a los elementos de la columna 0:\")\n",
        "a[:,0]=4\n",
        "print(a)\n",
        "\n",
        "\n",
        "print(\"- Dividimos por 3 la columna 1:\")\n",
        "a[:,1]=a[:,1]/3.0\n",
        "print(a)\n",
        "\n",
        "print(\"- Multiplicamos por 5 la fila 1:\")\n",
        "a[1,:]=a[1,:]*5\n",
        "print(a)\n",
        "\n",
        "print(\"- Le sumamos 1 a toda la matriz:\")\n",
        "a=a+1\n",
        "print(a)"
      ],
      "execution_count": 12,
      "outputs": [
        {
          "output_type": "stream",
          "name": "stdout",
          "text": [
            "- Matriz original:\n",
            "[[ 1. -4.]\n",
            " [12.  3.]\n",
            " [ 7.  5.]]\n",
            "- Le asignamos el valor 4 a los elementos de la columna 0:\n",
            "[[ 4. -4.]\n",
            " [ 4.  3.]\n",
            " [ 4.  5.]]\n",
            "- Dividimos por 3 la columna 1:\n",
            "[[ 4.         -1.33333333]\n",
            " [ 4.          1.        ]\n",
            " [ 4.          1.66666667]]\n",
            "- Multiplicamos por 5 la fila 1:\n",
            "[[ 4.         -1.33333333]\n",
            " [20.          5.        ]\n",
            " [ 4.          1.66666667]]\n",
            "- Le sumamos 1 a toda la matriz:\n",
            "[[ 5.         -0.33333333]\n",
            " [21.          6.        ]\n",
            " [ 5.          2.66666667]]\n"
          ]
        }
      ]
    },
    {
      "cell_type": "code",
      "metadata": {
        "colab": {
          "base_uri": "https://localhost:8080/"
        },
        "id": "flseuWUDMyl3",
        "outputId": "2e1e46e7-c4e6-46a1-f7e3-3691da6a0603"
      },
      "source": [
        "array=[[1, 2, 3],\n",
        "       [4, 5, 6]]\n",
        "matriz = np.array([[1,2,3],[4,5,6]])\n",
        "print(matriz)\n",
        "\n",
        "np.savetxt('lamatriz.txt',matriz)"
      ],
      "execution_count": 20,
      "outputs": [
        {
          "output_type": "stream",
          "name": "stdout",
          "text": [
            "[[1 2 3]\n",
            " [4 5 6]]\n"
          ]
        }
      ]
    },
    {
      "cell_type": "code",
      "metadata": {
        "colab": {
          "base_uri": "https://localhost:8080/"
        },
        "id": "VVf93rjyNYWO",
        "outputId": "4c3088ad-d51b-4bbe-ac8d-ba72bb2defd3"
      },
      "source": [
        "a = np.arange(0, 9).reshape(3, 3) \n",
        "print(a)"
      ],
      "execution_count": 22,
      "outputs": [
        {
          "output_type": "stream",
          "name": "stdout",
          "text": [
            "[[0 1 2]\n",
            " [3 4 5]\n",
            " [6 7 8]]\n"
          ]
        }
      ]
    }
  ]
}